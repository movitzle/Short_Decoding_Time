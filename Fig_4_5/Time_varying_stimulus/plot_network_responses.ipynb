{
 "cells": [
  {
   "cell_type": "code",
   "execution_count": 1,
   "id": "0ed8bf4b",
   "metadata": {},
   "outputs": [],
   "source": [
    "# This code reads the recorded data in the folder \"data\" and plots the spike rasters for the 1st and 2nd layer respectively"
   ]
  },
  {
   "cell_type": "code",
   "execution_count": 4,
   "id": "aa7288fb",
   "metadata": {},
   "outputs": [],
   "source": [
    "import numpy as np\n",
    "import seaborn as sns\n",
    "import pandas as pd\n",
    "from scipy.stats import ks_2samp\n",
    "import pickle\n",
    "import matplotlib.pyplot as plt\n",
    "from brian2 import *"
   ]
  },
  {
   "cell_type": "code",
   "execution_count": 5,
   "id": "3a0009b3",
   "metadata": {},
   "outputs": [],
   "source": [
    "s = np.genfromtxt('stimulus.csv', delimiter=',')\n",
    "s_t = np.genfromtxt('stimulus_timing.csv', delimiter=',')"
   ]
  },
  {
   "cell_type": "code",
   "execution_count": 6,
   "id": "8d211361",
   "metadata": {},
   "outputs": [
    {
     "name": "stderr",
     "output_type": "stream",
     "text": [
      "WARNING    C:\\Users\\movitzle\\AppData\\Local\\Temp\\ipykernel_12860\\95184981.py:14: RuntimeWarning: More than 20 figures have been opened. Figures created through the pyplot interface (`matplotlib.pyplot.figure`) are retained until explicitly closed and may consume too much memory. (To control this warning, see the rcParam `figure.max_open_warning`).\n",
      "  fig, ax = plt.subplots(figsize=(6,6*1.2))\n",
      " [py.warnings]\n",
      "WARNING    C:\\Users\\movitzle\\AppData\\Local\\Temp\\ipykernel_12860\\95184981.py:13: RuntimeWarning: More than 20 figures have been opened. Figures created through the pyplot interface (`matplotlib.pyplot.figure`) are retained until explicitly closed and may consume too much memory. (To control this warning, see the rcParam `figure.max_open_warning`).\n",
      "  plt.figure()\n",
      " [py.warnings]\n"
     ]
    },
    {
     "data": {
      "text/plain": [
       "<Figure size 432x288 with 0 Axes>"
      ]
     },
     "metadata": {},
     "output_type": "display_data"
    },
    {
     "data": {
      "text/plain": [
       "<Figure size 432x288 with 0 Axes>"
      ]
     },
     "metadata": {},
     "output_type": "display_data"
    },
    {
     "data": {
      "text/plain": [
       "<Figure size 432x288 with 0 Axes>"
      ]
     },
     "metadata": {},
     "output_type": "display_data"
    },
    {
     "data": {
      "text/plain": [
       "<Figure size 432x288 with 0 Axes>"
      ]
     },
     "metadata": {},
     "output_type": "display_data"
    },
    {
     "data": {
      "text/plain": [
       "<Figure size 432x288 with 0 Axes>"
      ]
     },
     "metadata": {},
     "output_type": "display_data"
    },
    {
     "data": {
      "text/plain": [
       "<Figure size 432x288 with 0 Axes>"
      ]
     },
     "metadata": {},
     "output_type": "display_data"
    },
    {
     "data": {
      "text/plain": [
       "<Figure size 432x288 with 0 Axes>"
      ]
     },
     "metadata": {},
     "output_type": "display_data"
    },
    {
     "data": {
      "text/plain": [
       "<Figure size 432x288 with 0 Axes>"
      ]
     },
     "metadata": {},
     "output_type": "display_data"
    },
    {
     "data": {
      "text/plain": [
       "<Figure size 432x288 with 0 Axes>"
      ]
     },
     "metadata": {},
     "output_type": "display_data"
    },
    {
     "data": {
      "text/plain": [
       "<Figure size 432x288 with 0 Axes>"
      ]
     },
     "metadata": {},
     "output_type": "display_data"
    },
    {
     "data": {
      "text/plain": [
       "<Figure size 432x288 with 0 Axes>"
      ]
     },
     "metadata": {},
     "output_type": "display_data"
    },
    {
     "data": {
      "text/plain": [
       "<Figure size 432x288 with 0 Axes>"
      ]
     },
     "metadata": {},
     "output_type": "display_data"
    },
    {
     "data": {
      "text/plain": [
       "<Figure size 432x288 with 0 Axes>"
      ]
     },
     "metadata": {},
     "output_type": "display_data"
    },
    {
     "data": {
      "text/plain": [
       "<Figure size 432x288 with 0 Axes>"
      ]
     },
     "metadata": {},
     "output_type": "display_data"
    },
    {
     "data": {
      "text/plain": [
       "<Figure size 432x288 with 0 Axes>"
      ]
     },
     "metadata": {},
     "output_type": "display_data"
    },
    {
     "data": {
      "text/plain": [
       "<Figure size 432x288 with 0 Axes>"
      ]
     },
     "metadata": {},
     "output_type": "display_data"
    },
    {
     "data": {
      "text/plain": [
       "<Figure size 432x288 with 0 Axes>"
      ]
     },
     "metadata": {},
     "output_type": "display_data"
    },
    {
     "data": {
      "text/plain": [
       "<Figure size 432x288 with 0 Axes>"
      ]
     },
     "metadata": {},
     "output_type": "display_data"
    },
    {
     "data": {
      "text/plain": [
       "<Figure size 432x288 with 0 Axes>"
      ]
     },
     "metadata": {},
     "output_type": "display_data"
    },
    {
     "data": {
      "text/plain": [
       "<Figure size 432x288 with 0 Axes>"
      ]
     },
     "metadata": {},
     "output_type": "display_data"
    },
    {
     "data": {
      "text/plain": [
       "<Figure size 432x288 with 0 Axes>"
      ]
     },
     "metadata": {},
     "output_type": "display_data"
    },
    {
     "data": {
      "text/plain": [
       "<Figure size 432x288 with 0 Axes>"
      ]
     },
     "metadata": {},
     "output_type": "display_data"
    },
    {
     "data": {
      "text/plain": [
       "<Figure size 432x288 with 0 Axes>"
      ]
     },
     "metadata": {},
     "output_type": "display_data"
    },
    {
     "data": {
      "text/plain": [
       "<Figure size 432x288 with 0 Axes>"
      ]
     },
     "metadata": {},
     "output_type": "display_data"
    },
    {
     "data": {
      "text/plain": [
       "<Figure size 432x288 with 0 Axes>"
      ]
     },
     "metadata": {},
     "output_type": "display_data"
    },
    {
     "data": {
      "text/plain": [
       "<Figure size 432x288 with 0 Axes>"
      ]
     },
     "metadata": {},
     "output_type": "display_data"
    },
    {
     "data": {
      "text/plain": [
       "<Figure size 432x288 with 0 Axes>"
      ]
     },
     "metadata": {},
     "output_type": "display_data"
    },
    {
     "data": {
      "text/plain": [
       "<Figure size 432x288 with 0 Axes>"
      ]
     },
     "metadata": {},
     "output_type": "display_data"
    },
    {
     "data": {
      "text/plain": [
       "<Figure size 432x288 with 0 Axes>"
      ]
     },
     "metadata": {},
     "output_type": "display_data"
    },
    {
     "data": {
      "text/plain": [
       "<Figure size 432x288 with 0 Axes>"
      ]
     },
     "metadata": {},
     "output_type": "display_data"
    }
   ],
   "source": [
    "# Plot data from the periodic population for trial number 0 - 29\n",
    "objects = []\n",
    "for k in range(0,30):\n",
    "    with (open('./data/Periodic_population/data_readout_layer_{}.pickle'.format(k), \"rb\")) as openfile:\n",
    "        while True:\n",
    "            try:\n",
    "                objects.append(pickle.load(openfile))\n",
    "            except EOFError:\n",
    "                break\n",
    "\n",
    "N_readout = 400\n",
    "for k in range(0,30):\n",
    "    plt.figure()\n",
    "    fig, ax = plt.subplots(figsize=(6,6*1.2))\n",
    "    plt.rcParams['font.size'] = '26'\n",
    "    plot_obj = objects[k]\n",
    "    plot_obj[\"t\"]\n",
    "    plt.plot(np.linspace(0,1000,10000), s)\n",
    "    plt.ylim([0, 1])\n",
    "    #ylim([0, 1])\n",
    "    plt.ylabel(\"Stimulus (a.u.)\")\n",
    "    plt.xlabel(\"Time (ms)\")\n",
    "    ax = plt.gca()\n",
    "    ax2 = ax.twinx()\n",
    "\n",
    "    ax2.plot(plot_obj[\"t\"]*1000, plot_obj[\"i\"], '|', color='orange')\n",
    "\n",
    "    plt.ylim([0,N_readout])\n",
    "    plt.ylabel(\"Readout neuron ID\")\n",
    "    plt.xlabel(\"Time (ms)\")\n",
    "    plt.savefig('./figures/Periodic_tuning/readout/N_500_{}.png'.format(k))\n",
    "    plt.savefig('./figures/Periodic_tuning/readout/N_500_{}.eps'.format(k), format='eps')\n",
    "    plt.close()\n",
    "\n",
    "N_TC = 500\n",
    "for k in range(0,30):\n",
    "    objects = []\n",
    "    with (open('./data/Periodic_population/data_TC_layer_{}.pickle'.format(k), \"rb\")) as openfile:\n",
    "        while True:\n",
    "            try:\n",
    "                objects.append(pickle.load(openfile))\n",
    "            except EOFError:\n",
    "                break\n",
    "    plt.figure()\n",
    "    for m in range(0,4):\n",
    "        plot_obj = objects[m]\n",
    "\n",
    "        plt.plot(plot_obj[\"t\"]*1000, plot_obj[\"i\"] + m*125, '|')\n",
    "    plt.ylim([0, N_TC])\n",
    "\n",
    "    plt.xlabel(\"Time (ms)\")\n",
    "    plt.ylabel(\"TC neuron ID\")\n",
    "    plt.xlabel(\"Time (ms)\")\n",
    "    plt.savefig('./figures/Periodic_tuning/TC/N_500_{}.png'.format(k))\n",
    "    plt.savefig('./figures/Periodic_tuning/TC/N_500_{}.eps'.format(k), format='eps')\n",
    "    plt.close()"
   ]
  },
  {
   "cell_type": "code",
   "execution_count": 7,
   "id": "d879544a",
   "metadata": {},
   "outputs": [
    {
     "name": "stderr",
     "output_type": "stream",
     "text": [
      "WARNING    C:\\Users\\movitzle\\AppData\\Local\\Temp\\ipykernel_12860\\509227572.py:13: RuntimeWarning: More than 20 figures have been opened. Figures created through the pyplot interface (`matplotlib.pyplot.figure`) are retained until explicitly closed and may consume too much memory. (To control this warning, see the rcParam `figure.max_open_warning`).\n",
      "  fig, ax = plt.subplots(figsize=(6,6*1.2))\n",
      " [py.warnings]\n",
      "WARNING    C:\\Users\\movitzle\\AppData\\Local\\Temp\\ipykernel_12860\\509227572.py:12: RuntimeWarning: More than 20 figures have been opened. Figures created through the pyplot interface (`matplotlib.pyplot.figure`) are retained until explicitly closed and may consume too much memory. (To control this warning, see the rcParam `figure.max_open_warning`).\n",
      "  plt.figure()\n",
      " [py.warnings]\n"
     ]
    },
    {
     "data": {
      "text/plain": [
       "<Figure size 432x288 with 0 Axes>"
      ]
     },
     "metadata": {},
     "output_type": "display_data"
    },
    {
     "data": {
      "text/plain": [
       "<Figure size 432x288 with 0 Axes>"
      ]
     },
     "metadata": {},
     "output_type": "display_data"
    },
    {
     "data": {
      "text/plain": [
       "<Figure size 432x288 with 0 Axes>"
      ]
     },
     "metadata": {},
     "output_type": "display_data"
    },
    {
     "data": {
      "text/plain": [
       "<Figure size 432x288 with 0 Axes>"
      ]
     },
     "metadata": {},
     "output_type": "display_data"
    },
    {
     "data": {
      "text/plain": [
       "<Figure size 432x288 with 0 Axes>"
      ]
     },
     "metadata": {},
     "output_type": "display_data"
    },
    {
     "data": {
      "text/plain": [
       "<Figure size 432x288 with 0 Axes>"
      ]
     },
     "metadata": {},
     "output_type": "display_data"
    },
    {
     "data": {
      "text/plain": [
       "<Figure size 432x288 with 0 Axes>"
      ]
     },
     "metadata": {},
     "output_type": "display_data"
    },
    {
     "data": {
      "text/plain": [
       "<Figure size 432x288 with 0 Axes>"
      ]
     },
     "metadata": {},
     "output_type": "display_data"
    },
    {
     "data": {
      "text/plain": [
       "<Figure size 432x288 with 0 Axes>"
      ]
     },
     "metadata": {},
     "output_type": "display_data"
    },
    {
     "data": {
      "text/plain": [
       "<Figure size 432x288 with 0 Axes>"
      ]
     },
     "metadata": {},
     "output_type": "display_data"
    },
    {
     "data": {
      "text/plain": [
       "<Figure size 432x288 with 0 Axes>"
      ]
     },
     "metadata": {},
     "output_type": "display_data"
    },
    {
     "data": {
      "text/plain": [
       "<Figure size 432x288 with 0 Axes>"
      ]
     },
     "metadata": {},
     "output_type": "display_data"
    },
    {
     "data": {
      "text/plain": [
       "<Figure size 432x288 with 0 Axes>"
      ]
     },
     "metadata": {},
     "output_type": "display_data"
    },
    {
     "data": {
      "text/plain": [
       "<Figure size 432x288 with 0 Axes>"
      ]
     },
     "metadata": {},
     "output_type": "display_data"
    },
    {
     "data": {
      "text/plain": [
       "<Figure size 432x288 with 0 Axes>"
      ]
     },
     "metadata": {},
     "output_type": "display_data"
    },
    {
     "data": {
      "text/plain": [
       "<Figure size 432x288 with 0 Axes>"
      ]
     },
     "metadata": {},
     "output_type": "display_data"
    },
    {
     "data": {
      "text/plain": [
       "<Figure size 432x288 with 0 Axes>"
      ]
     },
     "metadata": {},
     "output_type": "display_data"
    },
    {
     "data": {
      "text/plain": [
       "<Figure size 432x288 with 0 Axes>"
      ]
     },
     "metadata": {},
     "output_type": "display_data"
    },
    {
     "data": {
      "text/plain": [
       "<Figure size 432x288 with 0 Axes>"
      ]
     },
     "metadata": {},
     "output_type": "display_data"
    },
    {
     "data": {
      "text/plain": [
       "<Figure size 432x288 with 0 Axes>"
      ]
     },
     "metadata": {},
     "output_type": "display_data"
    },
    {
     "data": {
      "text/plain": [
       "<Figure size 432x288 with 0 Axes>"
      ]
     },
     "metadata": {},
     "output_type": "display_data"
    },
    {
     "data": {
      "text/plain": [
       "<Figure size 432x288 with 0 Axes>"
      ]
     },
     "metadata": {},
     "output_type": "display_data"
    },
    {
     "data": {
      "text/plain": [
       "<Figure size 432x288 with 0 Axes>"
      ]
     },
     "metadata": {},
     "output_type": "display_data"
    },
    {
     "data": {
      "text/plain": [
       "<Figure size 432x288 with 0 Axes>"
      ]
     },
     "metadata": {},
     "output_type": "display_data"
    },
    {
     "data": {
      "text/plain": [
       "<Figure size 432x288 with 0 Axes>"
      ]
     },
     "metadata": {},
     "output_type": "display_data"
    },
    {
     "data": {
      "text/plain": [
       "<Figure size 432x288 with 0 Axes>"
      ]
     },
     "metadata": {},
     "output_type": "display_data"
    },
    {
     "data": {
      "text/plain": [
       "<Figure size 432x288 with 0 Axes>"
      ]
     },
     "metadata": {},
     "output_type": "display_data"
    },
    {
     "data": {
      "text/plain": [
       "<Figure size 432x288 with 0 Axes>"
      ]
     },
     "metadata": {},
     "output_type": "display_data"
    },
    {
     "data": {
      "text/plain": [
       "<Figure size 432x288 with 0 Axes>"
      ]
     },
     "metadata": {},
     "output_type": "display_data"
    },
    {
     "data": {
      "text/plain": [
       "<Figure size 432x288 with 0 Axes>"
      ]
     },
     "metadata": {},
     "output_type": "display_data"
    }
   ],
   "source": [
    "# Plot data from the Gaussian population for trial number 0 - 29\n",
    "objects = []\n",
    "for k in range(0,30):\n",
    "    with (open('./data/Gaussian_population/data_readout_layer_{}.pickle'.format(k), \"rb\")) as openfile:\n",
    "        while True:\n",
    "            try:\n",
    "                objects.append(pickle.load(openfile))\n",
    "            except EOFError:\n",
    "                break\n",
    "N_readout = 400\n",
    "for k in range(0,30):\n",
    "    plt.figure()\n",
    "    fig, ax = plt.subplots(figsize=(6,6*1.2))\n",
    "    plt.rcParams['font.size'] = '26'\n",
    "    plot_obj = objects[k]\n",
    "    plot_obj[\"t\"]\n",
    "    plt.plot(np.linspace(0,1000,10000), s)\n",
    "    plt.ylim([0, 1])\n",
    "    #ylim([0, 1])\n",
    "    plt.ylabel(\"Stimulus (a.u.)\")\n",
    "    plt.xlabel(\"Time (ms)\")\n",
    "    ax = plt.gca()\n",
    "    ax2 = ax.twinx()\n",
    "\n",
    "    ax2.plot(plot_obj[\"t\"]*1000, plot_obj[\"i\"], '|', color='orange')\n",
    "\n",
    "    plt.ylim([0,N_readout])\n",
    "    plt.ylabel(\"Readout neuron ID\")\n",
    "    plt.xlabel(\"Time (ms)\")\n",
    "    plt.savefig('./figures/Gaussian_tuning/readout/N_500_{}.png'.format(k))\n",
    "    plt.savefig('./figures/Gaussian_tuning/readout/N_500_{}.eps'.format(k), format='eps')\n",
    "    plt.close()\n",
    "    \n",
    "objects = []\n",
    "for k in range(0,30):\n",
    "    with (open('./data/Gaussian_population/data_TC_layer_{}.pickle'.format(k), \"rb\")) as openfile:\n",
    "        while True:\n",
    "            try:\n",
    "                objects.append(pickle.load(openfile))\n",
    "            except EOFError:\n",
    "                break\n",
    "\n",
    "N_TC = 500\n",
    "for k in range(0,30):\n",
    "    plt.figure()\n",
    "    plot_obj = objects[k]\n",
    "    \n",
    "    plt.plot(plot_obj[\"t\"]*1000, plot_obj[\"i\"], '|')\n",
    "    plt.xlabel(\"Time (ms)\")\n",
    "    plt.ylim([0,N_TC])\n",
    "    plt.ylabel(\"TC neuron ID\")\n",
    "    plt.savefig('./figures/Gaussian_tuning/TC/N_500_{}.png'.format(k))\n",
    "    plt.savefig('./figures/Gaussian_tuning/TC/N_500_{}.eps'.format(k), format='eps')\n",
    "    plt.close()"
   ]
  }
 ],
 "metadata": {
  "kernelspec": {
   "display_name": "Python 3 (ipykernel)",
   "language": "python",
   "name": "python3"
  },
  "language_info": {
   "codemirror_mode": {
    "name": "ipython",
    "version": 3
   },
   "file_extension": ".py",
   "mimetype": "text/x-python",
   "name": "python",
   "nbconvert_exporter": "python",
   "pygments_lexer": "ipython3",
   "version": "3.10.4"
  }
 },
 "nbformat": 4,
 "nbformat_minor": 5
}
