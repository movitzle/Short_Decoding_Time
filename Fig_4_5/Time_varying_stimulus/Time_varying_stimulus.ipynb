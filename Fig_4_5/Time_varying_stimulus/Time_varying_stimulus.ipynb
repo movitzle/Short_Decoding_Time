{
 "cells": [
  {
   "cell_type": "code",
   "execution_count": null,
   "id": "ab42efce",
   "metadata": {},
   "outputs": [],
   "source": [
    "# Run this code to create a time-varying stimulus trajectory. Stimulus saved in stimulus.cvs and stimulus_timing.cvs"
   ]
  },
  {
   "cell_type": "code",
   "execution_count": 1,
   "id": "42a9a485",
   "metadata": {},
   "outputs": [],
   "source": [
    "from brian2 import *\n",
    "import numpy as np"
   ]
  },
  {
   "cell_type": "code",
   "execution_count": 2,
   "id": "56c3faa5",
   "metadata": {},
   "outputs": [
    {
     "name": "stderr",
     "output_type": "stream",
     "text": [
      "WARNING    Cannot use Cython, a test compilation failed: Microsoft Visual C++ 14.0 or greater is required. Get it with \"Microsoft C++ Build Tools\": https://visualstudio.microsoft.com/visual-cpp-build-tools/ (DistutilsPlatformError) [brian2.codegen.runtime.cython_rt.cython_rt.failed_compile_test]\n",
      "INFO       Cannot use compiled code, falling back to the numpy code generation target. Note that this will likely be slower than using compiled code. Set the code generation to numpy manually to avoid this message:\n",
      "prefs.codegen.target = \"numpy\" [brian2.devices.device.codegen_fallback]\n"
     ]
    }
   ],
   "source": [
    "start_scope()\n",
    "seed(13) #fixed seed for reproducable stimulus\n",
    "ornstein_uhlenbeck_process = NeuronGroup(\n",
    "    1,\n",
    "    \"\"\"\n",
    "    tau : second\n",
    "    sigma : 1\n",
    "    ds/dt = -(s)/tau + sqrt(2*sigma**2/tau)*xi : 1\n",
    "    \"\"\",\n",
    "    method=\"euler\"\n",
    ")\n",
    "\n",
    "ornstein_uhlenbeck_process.tau = np.array([0.5]) * second\n",
    "ornstein_uhlenbeck_process.sigma = np.array([0.1])\n",
    "ornstein_uhlenbeck_process.s = rand()\n",
    "defaultclock.dt = 0.1 * ms\n",
    "M = StateMonitor(ornstein_uhlenbeck_process, \"s\", record=True)\n",
    "\n",
    "run(1 * second)\n",
    "\n",
    "stim = M.s\n",
    "s_t = M.t"
   ]
  },
  {
   "cell_type": "code",
   "execution_count": 3,
   "id": "9af17a05",
   "metadata": {},
   "outputs": [
    {
     "data": {
      "text/plain": [
       "Text(0, 0.5, 'Stimulus (a.u.)')"
      ]
     },
     "execution_count": 3,
     "metadata": {},
     "output_type": "execute_result"
    },
    {
     "data": {
      "image/png": "[encoded data removed]",
      "text/plain": [
       "<Figure size 432x288 with 1 Axes>"
      ]
     },
     "metadata": {
      "needs_background": "light"
     },
     "output_type": "display_data"
    }
   ],
   "source": [
    "plot(M.t[:], stim[0,:])\n",
    "ylim([0,1])\n",
    "xlabel('Time (s)')\n",
    "ylabel('Stimulus (a.u.)')"
   ]
  },
  {
   "cell_type": "code",
   "execution_count": 4,
   "id": "39d3b540",
   "metadata": {},
   "outputs": [],
   "source": [
    "numpy.savetxt(\"stimulus.csv\", np.asarray(stim), delimiter=\",\")\n",
    "\n",
    "numpy.savetxt(\"stimulus_timing.csv\", np.asarray(s_t), delimiter=\",\")"
   ]
  },
  {
   "cell_type": "code",
   "execution_count": null,
   "id": "7c5bf944",
   "metadata": {},
   "outputs": [],
   "source": []
  }
 ],
 "metadata": {
  "kernelspec": {
   "display_name": "Python 3 (ipykernel)",
   "language": "python",
   "name": "python3"
  },
  "language_info": {
   "codemirror_mode": {
    "name": "ipython",
    "version": 3
   },
   "file_extension": ".py",
   "mimetype": "text/x-python",
   "name": "python",
   "nbconvert_exporter": "python",
   "pygments_lexer": "ipython3",
   "version": "3.10.4"
  }
 },
 "nbformat": 4,
 "nbformat_minor": 5
}
