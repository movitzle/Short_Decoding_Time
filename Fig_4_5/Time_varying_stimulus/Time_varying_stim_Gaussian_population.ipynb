{
 "cells": [
  {
   "cell_type": "code",
   "execution_count": 1,
   "id": "7370cc22",
   "metadata": {},
   "outputs": [],
   "source": [
    "from brian2 import *\n",
    "import numpy as np\n",
    "import pickle"
   ]
  },
  {
   "cell_type": "code",
   "execution_count": 2,
   "id": "0a9d9500",
   "metadata": {},
   "outputs": [
    {
     "data": {
      "text/plain": [
       "array([0.77770241, 0.77886997, 0.77764333, ..., 0.29560571, 0.29676322,\n",
       "       0.29227373])"
      ]
     },
     "execution_count": 2,
     "metadata": {},
     "output_type": "execute_result"
    }
   ],
   "source": [
    "s = np.genfromtxt('stimulus.csv', delimiter=',')\n"
   ]
  },
  {
   "cell_type": "code",
   "execution_count": 3,
   "id": "5032a91e",
   "metadata": {},
   "outputs": [],
   "source": [
    "# network param.\n",
    "N = 500;\n",
    "N_E = N\n",
    "N_readout = 400\n",
    "\n",
    "n_trials = 30\n",
    "\n",
    "# neuron param.\n",
    "tau_mem = 20*ms\n",
    "thresh = 20 *mV\n",
    "V_reset = 10*mV\n",
    "V_rest = 0*mV\n",
    "#thresh = -55 *mV\n",
    "#V_reset = -65*mV\n",
    "#V_rest = -75*mV\n",
    "tau_rp = 2*ms\n",
    "D = 1.5 *ms # Delay\n",
    "\n",
    "eqs = '''\n",
    "dv/dt = -(v-V_rest)/tau_mem : volt (unless refractory)\n",
    "'''\n",
    "\n",
    "# synapse param.\n",
    "J_E = 0.2*mV\n",
    "J_EE = 10*J_E\n",
    "J_I = J_EE\n",
    "#nu_thr = thresh / (J_E * tau_mem)\n",
    "\n",
    "theta_0 = np.linspace(0,1,N + 1)\n",
    "theta_0 = theta_0[:-1] #remove last element (circular stimulus variable)\n",
    "\n",
    "# preferred locations of readout layer neurons\n",
    "readout_theta_0 = np.linspace(0,1,N_readout + 1)\n",
    "readout_theta_0 = readout_theta_0[0:-1] #same as for theta0\n",
    "\n",
    "max_input = 5000* Hz #Heuristically set\n",
    "\n",
    "#controlls width of input modulation to input layer\n",
    "w = 0.3 \n",
    "# Spatial frequency of input layer neurons\n",
    "f = 1 \n",
    "\n",
    "# Poisson input rates to the input layer\n",
    "# Baseline input is 0.85*5000 = 4250 just enough to make neurons spike a few times, rest 0.15*5000 = 750 is stimulus modulation\n",
    "input_rates = lambda theta: (0.15*exp(1/w*(cos(2*pi*f*(theta-theta_0)) - 1)) + 0.85 )*max_input"
   ]
  },
  {
   "cell_type": "code",
   "execution_count": 4,
   "id": "c0be849e",
   "metadata": {},
   "outputs": [],
   "source": [
    "#activity input to input layer\n",
    "TC_vec = [list(input_rates(min(1,max(s[i],0)))) for i in range(len(s[:]))]\n",
    "stimulus = TimedArray(TC_vec, dt=0.1*ms)"
   ]
  },
  {
   "cell_type": "code",
   "execution_count": 5,
   "id": "ef32af27",
   "metadata": {},
   "outputs": [
    {
     "name": "stderr",
     "output_type": "stream",
     "text": [
      "WARNING    Cannot use Cython, a test compilation failed: Microsoft Visual C++ 14.0 or greater is required. Get it with \"Microsoft C++ Build Tools\": https://visualstudio.microsoft.com/visual-cpp-build-tools/ (DistutilsPlatformError) [brian2.codegen.runtime.cython_rt.cython_rt.failed_compile_test]\n",
      "INFO       Cannot use compiled code, falling back to the numpy code generation target. Note that this will likely be slower than using compiled code. Set the code generation to numpy manually to avoid this message:\n",
      "prefs.codegen.target = \"numpy\" [brian2.devices.device.codegen_fallback]\n"
     ]
    }
   ],
   "source": [
    "for k in range(0,n_trials):\n",
    "    #baseline input activity to readout layer\n",
    "    start_scope()\n",
    "    defaultclock.dt = 0.1 * ms\n",
    "\n",
    "    P = PoissonGroup(N, rates='stimulus(t, i)')\n",
    "    MP = SpikeMonitor(P)\n",
    "    run(1000*ms)\n",
    "    # And keep a copy of those spikes\n",
    "    spikes_i = MP.i\n",
    "    spikes_t = MP.t\n",
    "    start_scope()\n",
    "    defaultclock.dt = 0.1 * ms\n",
    "    P = PoissonGroup(N_readout, rates=0.85*max_input)\n",
    "    MP = SpikeMonitor(P)\n",
    "    run(1000*ms)\n",
    "    # And keep a copy of those spikes\n",
    "    spikes_i_readout_base = MP.i\n",
    "    spikes_t_readout_base = MP.t\n",
    "    #run network simulations\n",
    "    start_scope()\n",
    "    defaultclock.dt = 0.1 * ms\n",
    "    neurons = NeuronGroup(N, eqs,\n",
    "                              threshold=\"v > thresh\",\n",
    "                              reset=\"v = V_reset\",\n",
    "                              refractory=tau_rp,\n",
    "                              method=\"exact\"\n",
    "                         )\n",
    "    readout_neurons = NeuronGroup(N_readout, eqs,\n",
    "                              threshold=\"v > thresh\",\n",
    "                              reset=\"v = V_reset\",\n",
    "                              refractory=tau_rp,\n",
    "                              method=\"exact\"\n",
    "                         )\n",
    "    # Random initial states\n",
    "    neurons.v = 10*(1 + rand(N_E))*mV # initial value\n",
    "    readout_neurons.v = 10*(1 + rand(N_readout))*mV # initial value\n",
    "\n",
    "\n",
    "    #Synapses input activity -> input layer\n",
    "    SGG = SpikeGeneratorGroup(N, spikes_i, spikes_t)\n",
    "    external_syn = Synapses(SGG, neurons, on_pre='v += J_E')\n",
    "    external_syn.connect(j='i') #connect 1-to-1\n",
    "\n",
    "    #Synapses input layer -> readout layer (distance dependent EPSPs - in stimulus space)\n",
    "    read_out_syn = Synapses(neurons, readout_neurons, 'epsp : volt', on_pre='v += epsp', delay = D)\n",
    "    read_out_syn.connect()\n",
    "    FWHM = 1/N_readout\n",
    "    sigma = (FWHM/2) / sqrt(2*log(2))\n",
    "\n",
    "    # Set the size of the difference in preferred orientation dependent EPSPs\n",
    "    w_readout = (pi*FWHM)**2/(2*log(2))\n",
    "    read_out_syn.epsp = 'exp(1/(w_readout)*(cos(2*pi*f*(1/N_E*i - 1/N_readout*j))-1))*J_EE'\n",
    "\n",
    "    #Synapses baseline input to readout layer\n",
    "    SGG_readout = SpikeGeneratorGroup(N_readout, spikes_i_readout_base, spikes_t_readout_base)\n",
    "    external_syn_readout = Synapses(SGG_readout, target=readout_neurons, on_pre='v += J_E')\n",
    "    external_syn_readout.connect(j='i') #connect 1-to-1\n",
    "\n",
    "    #Winner take all style inhibitory synapses between readout layer (preferred-stimulus-distance dependent, \"nearer\" -> less inhibition)\n",
    "    read_out_syn_inhib = Synapses(readout_neurons, readout_neurons, 'ipsp : volt', on_pre='v += ipsp', delay = D)\n",
    "    read_out_syn_inhib.connect()\n",
    "    read_out_syn_inhib.ipsp = '-abs(sin(pi*(1/N_readout*i-1/N_readout*j)))*J_I' #'-(1 - exp(1/0.15*(cos(2*pi*(1/N_readout*i-1/N_readout*j)) - 1)))*J_I'\n",
    "    \n",
    "    spike_monitor = SpikeMonitor(neurons)\n",
    "    spike_monitor_readout = SpikeMonitor(readout_neurons)\n",
    "    net = Network(neurons, readout_neurons, read_out_syn, SGG, external_syn, SGG_readout, external_syn_readout, read_out_syn_inhib, spike_monitor, spike_monitor_readout)\n",
    "    net.run(1000*ms)\n",
    "    t_idx = (1/defaultclock.dt)*spike_monitor_readout.t[:]\n",
    "    t_idx = t_idx.astype(int)\n",
    "    \n",
    "    data_1 = spike_monitor.get_states(['t','i','count'])\n",
    "\n",
    "    \n",
    "    data_readout = spike_monitor_readout.get_states(['t','i','count'])\n",
    "    with open('./data/Gaussian_population/data_TC_layer_{}.pickle'.format(k), 'wb') as save_file:\n",
    "        pickle.dump(data_1, save_file)\n",
    "\n",
    "    with open('./data/Gaussian_population/data_readout_layer_{}.pickle'.format(k), 'wb') as save_file:\n",
    "        pickle.dump(data_readout, save_file) "
   ]
  }
 ],
 "metadata": {
  "kernelspec": {
   "display_name": "Python 3 (ipykernel)",
   "language": "python",
   "name": "python3"
  },
  "language_info": {
   "codemirror_mode": {
    "name": "ipython",
    "version": 3
   },
   "file_extension": ".py",
   "mimetype": "text/x-python",
   "name": "python",
   "nbconvert_exporter": "python",
   "pygments_lexer": "ipython3",
   "version": "3.10.4"
  }
 },
 "nbformat": 4,
 "nbformat_minor": 5
}
