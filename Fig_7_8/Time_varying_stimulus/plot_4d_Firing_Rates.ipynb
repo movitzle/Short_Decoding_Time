{
 "cells": [
  {
   "cell_type": "code",
   "execution_count": 14,
   "id": "aa7288fb",
   "metadata": {},
   "outputs": [],
   "source": [
    "from brian2 import *\n",
    "import numpy as np\n",
    "import seaborn as sns\n",
    "import pandas as pd\n",
    "from scipy.stats import ks_2samp\n",
    "import pickle\n",
    "import matplotlib.pyplot as plt"
   ]
  },
  {
   "cell_type": "code",
   "execution_count": 15,
   "id": "72bd96cb",
   "metadata": {},
   "outputs": [],
   "source": [
    "# Estimate individual readout neurons firing rates\n",
    "def readout_rates(spike_monitor_readout, N_readouts, windowsize):    \n",
    "    spike_times = spike_monitor_readout['t']\n",
    "    spike_IDs = spike_monitor_readout['i']\n",
    "\n",
    "    \n",
    "    output_rates = np.zeros([N_readouts])\n",
    "    for k in range(0,len(spike_times)):\n",
    "        output_rates[spike_IDs[k]] += 1 \n",
    "    output_rates = output_rates/windowsize\n",
    "    return output_rates"
   ]
  },
  {
   "cell_type": "code",
   "execution_count": 16,
   "id": "a8ac82e5",
   "metadata": {},
   "outputs": [],
   "source": [
    "def pop_rates_in_window(spike_monitor_readout, center, windowsize, N_readouts, t_start,t_stop):\n",
    "    spike_times = spike_monitor_readout['t']\n",
    "    spike_IDs = spike_monitor_readout['i']\n",
    "    idx_t_lower = np.argwhere(spike_times[:] > center - windowsize/2) #find all spikes within lower time bound\n",
    "    idx_t_start = np.argwhere(spike_times[:] > t_start) #find all spikes after stimulus step change\n",
    "    idx_t_upper = np.argwhere(spike_times[:] < center + windowsize/2) #find all spikes within upper time bound\n",
    "    idx = np.intersect1d(idx_t_start, idx_t_lower)\n",
    "    idx = np.intersect1d(idx, idx_t_upper)\n",
    "    \n",
    "    spike_times = spike_times[idx]\n",
    "    spike_IDs = spike_IDs[idx]\n",
    "    #adjust window size for egde conditions\n",
    "    windowsize_temp = np.minimum(center + windowsize/2, t_stop) - np.maximum(center - windowsize/2, t_start)\n",
    "    pop_output_rate = np.size(spike_IDs)/windowsize_temp\n",
    "\n",
    "    return pop_output_rate"
   ]
  },
  {
   "cell_type": "code",
   "execution_count": 17,
   "id": "63b2f1f6",
   "metadata": {},
   "outputs": [],
   "source": [
    "N_readouts = 400 \n",
    "objects = []\n",
    "n_trials = 30\n",
    "readout_theta_0 = np.linspace(0,1, N_readouts + 1)\n",
    "readout_theta_0 = readout_theta_0[:-1]\n",
    "for k in range(0,n_trials):\n",
    "    with (open('./data/Gaussian_population/data_readout_layer_{}.pickle'.format(k), \"rb\")) as openfile:\n",
    "        while True:\n",
    "            try:\n",
    "                objects.append(pickle.load(openfile))\n",
    "            except EOFError:\n",
    "                break\n",
    "\n",
    "readout_rates_Gaussian = np.zeros([n_trials,N_readouts])\n",
    "\n",
    "for k in range(0,n_trials):\n",
    "    readout_rates_Gaussian[k,:] =  readout_rates(objects[k], N_readouts, 1000*ms) # window size is the entire trial"
   ]
  },
  {
   "cell_type": "code",
   "execution_count": 18,
   "id": "ed541434",
   "metadata": {},
   "outputs": [],
   "source": [
    "N_readouts = 400 \n",
    "objects = []\n",
    "n_trials = 30\n",
    "readout_theta_0 = np.linspace(0,1, N_readouts + 1)\n",
    "readout_theta_0 = readout_theta_0[:-1]\n",
    "for k in range(0,n_trials):\n",
    "    with (open('./data/Periodic_population/data_readout_layer_{}.pickle'.format(k), \"rb\")) as openfile:\n",
    "        while True:\n",
    "            try:\n",
    "                objects.append(pickle.load(openfile))\n",
    "            except EOFError:\n",
    "                break\n",
    "\n",
    "readout_rates_Periodic = np.zeros([n_trials,N_readouts])\n",
    "\n",
    "for k in range(0,n_trials):        \n",
    "    readout_rates_Periodic[k,:] =  readout_rates(objects[k], N_readouts, 1000*ms)  # window size is the entire trial "
   ]
  },
  {
   "cell_type": "code",
   "execution_count": 19,
   "id": "b7f55280",
   "metadata": {},
   "outputs": [],
   "source": [
    "window_size_pop_rate = 50 * ms\n",
    "step_size = 1 *ms\n",
    "n_steps_pop_rate = round((1000*ms)/window_size_pop_rate) \n",
    "  \n",
    "t_pop_rate = np.linspace(0*ms, 1000*ms, n_steps_pop_rate)"
   ]
  },
  {
   "cell_type": "code",
   "execution_count": 20,
   "id": "6f621452",
   "metadata": {},
   "outputs": [],
   "source": [
    "N_readouts = 400 \n",
    "n_trials = 30\n",
    "# estimate the population firing rate of the readout layer for Gaussian input layer\n",
    "objects = []\n",
    "for k in range(0,n_trials):\n",
    "    with (open('./data/Gaussian_population/data_readout_layer_{}.pickle'.format(k), \"rb\")) as openfile:\n",
    "        while True:\n",
    "            try:\n",
    "                objects.append(pickle.load(openfile))\n",
    "            except EOFError:\n",
    "                break\n",
    "\n",
    "\n",
    "population_rate_Gaussian = np.zeros([n_trials, n_steps_pop_rate])\n",
    "\n",
    "for count, t_center in enumerate(t_pop_rate):\n",
    "    for k in range(0,n_trials):\n",
    "        population_rate_Gaussian[k,count] = pop_rates_in_window(objects[k], t_center, window_size_pop_rate, N_readouts, 0*ms, 1000*ms)\n",
    "\n",
    "\n",
    "# estimate the population firing rate of the readout layer for Periodic input layer        \n",
    "objects = []\n",
    "\n",
    "for k in range(0,n_trials):\n",
    "    with (open('./data/Periodic_population/data_readout_layer_{}.pickle'.format(k), \"rb\")) as openfile:\n",
    "        while True:\n",
    "            try:\n",
    "                objects.append(pickle.load(openfile))\n",
    "            except EOFError:\n",
    "                break\n",
    "\n",
    "population_rate_Periodic = np.zeros([n_trials, n_steps_pop_rate])\n",
    "\n",
    "for count, t_center in enumerate(t_pop_rate):\n",
    "    for k in range(0,n_trials):\n",
    "        population_rate_Periodic[k,count] = pop_rates_in_window(objects[k], t_center, window_size_pop_rate, N_readouts, 0*ms, 1000*ms)\n",
    "\n"
   ]
  },
  {
   "cell_type": "code",
   "execution_count": 21,
   "id": "d49f3707",
   "metadata": {},
   "outputs": [
    {
     "data": {
      "image/png": "[encoded data removed]",
      "text/plain": [
       "<Figure size 720x72 with 1 Axes>"
      ]
     },
     "metadata": {
      "needs_background": "light"
     },
     "output_type": "display_data"
    }
   ],
   "source": [
    "# Plot the individual readout rates\n",
    "fig, ax = plt.subplots(figsize=(10,1))\n",
    "plt.rcParams['font.size'] = '20'\n",
    "mean_readout_rates_Gaussian = np.mean(readout_rates_Gaussian,0)\n",
    "mean_readout_rates_Gaussian = np.flip(mean_readout_rates_Gaussian)\n",
    "\n",
    "sd_readout_rates_Gaussian = np.std(readout_rates_Gaussian,0)\n",
    "sd_readout_rates_Gaussian = np.flip(sd_readout_rates_Gaussian)\n",
    "\n",
    "mean_readout_rates_Periodic = np.mean(readout_rates_Periodic,0)\n",
    "mean_readout_rates_Periodic = np.flip(mean_readout_rates_Periodic)\n",
    "\n",
    "sd_readout_rates_Periodic = np.std(readout_rates_Periodic,0)\n",
    "sd_readout_rates_Periodic = np.flip(sd_readout_rates_Periodic)\n",
    "\n",
    "neuron_idx = np.linspace(0,N_readouts - 1, N_readouts)\n",
    "neuron_idx = np.flip(neuron_idx)\n",
    "\n",
    "ax.plot(neuron_idx, mean_readout_rates_Gaussian)\n",
    "ax.fill_between(neuron_idx, mean_readout_rates_Gaussian - sd_readout_rates_Gaussian, mean_readout_rates_Gaussian + sd_readout_rates_Gaussian)\n",
    "ax.plot(neuron_idx, mean_readout_rates_Periodic)\n",
    "ax.fill_between(neuron_idx, mean_readout_rates_Periodic - sd_readout_rates_Periodic, mean_readout_rates_Periodic + sd_readout_rates_Periodic)\n",
    "plt.gca().invert_yaxis()\n",
    "ax.yaxis.set_label_position(\"right\")\n",
    "ax.yaxis.tick_right()\n",
    "plt.ylabel(\"Average rates (sp/s)\")\n",
    "plt.savefig('./figures/Readout_rates.png')\n",
    "plt.savefig('./figures/Readout_rates.eps', format='eps')"
   ]
  },
  {
   "cell_type": "code",
   "execution_count": 22,
   "id": "df62e898",
   "metadata": {},
   "outputs": [
    {
     "data": {
      "image/png": "[encoded data removed]",
      "text/plain": [
       "<Figure size 720x72 with 1 Axes>"
      ]
     },
     "metadata": {
      "needs_background": "light"
     },
     "output_type": "display_data"
    }
   ],
   "source": [
    "# Plot the readout population rates\n",
    "fig, ax = plt.subplots(figsize=(10,1))\n",
    "plt.rcParams['font.size'] = '20'\n",
    "mean_pop_rate_Gaussian = np.mean(population_rate_Gaussian,0)\n",
    "sd_pop_rate_Gaussian = np.std(population_rate_Gaussian,0)\n",
    "mean_pop_rate_Periodic = np.mean(population_rate_Periodic,0)\n",
    "sd_pop_rate_Periodic = np.std(population_rate_Periodic,0)\n",
    "\n",
    "ax.plot(t_pop_rate, mean_pop_rate_Gaussian)\n",
    "ax.fill_between(t_pop_rate, mean_pop_rate_Gaussian - sd_pop_rate_Gaussian, mean_pop_rate_Gaussian + sd_pop_rate_Gaussian)\n",
    "ax.plot(t_pop_rate, mean_pop_rate_Periodic)\n",
    "ax.fill_between(t_pop_rate, mean_pop_rate_Periodic - sd_pop_rate_Periodic, mean_pop_rate_Periodic + sd_pop_rate_Periodic)\n",
    "plt.ylabel(\"Pop. rates (sp/s)\")\n",
    "plt.savefig('./figures/Readout_population_rates.png')\n",
    "plt.savefig('./figures/Readout_population_rates.eps', format='eps')"
   ]
  },
  {
   "cell_type": "code",
   "execution_count": null,
   "id": "88268db0",
   "metadata": {},
   "outputs": [],
   "source": []
  }
 ],
 "metadata": {
  "kernelspec": {
   "display_name": "Python 3 (ipykernel)",
   "language": "python",
   "name": "python3"
  },
  "language_info": {
   "codemirror_mode": {
    "name": "ipython",
    "version": 3
   },
   "file_extension": ".py",
   "mimetype": "text/x-python",
   "name": "python",
   "nbconvert_exporter": "python",
   "pygments_lexer": "ipython3",
   "version": "3.10.4"
  }
 },
 "nbformat": 4,
 "nbformat_minor": 5
}
