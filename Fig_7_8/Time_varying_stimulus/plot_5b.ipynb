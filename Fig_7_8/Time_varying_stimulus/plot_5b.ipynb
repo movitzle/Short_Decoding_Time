{
 "cells": [
  {
   "cell_type": "code",
   "execution_count": 1,
   "id": "aa7288fb",
   "metadata": {},
   "outputs": [],
   "source": [
    "import numpy as np\n",
    "import seaborn as sns\n",
    "import pandas as pd\n",
    "from scipy.stats import ks_2samp\n",
    "import pickle\n",
    "import matplotlib.pyplot as plt\n",
    "from brian2 import *"
   ]
  },
  {
   "cell_type": "code",
   "execution_count": 2,
   "id": "06574837",
   "metadata": {},
   "outputs": [],
   "source": [
    "s = np.genfromtxt('stimulus.csv', delimiter=',')\n",
    "s_t = np.genfromtxt('stimulus_timing.csv', delimiter=',')"
   ]
  },
  {
   "cell_type": "code",
   "execution_count": 3,
   "id": "e3a8227d",
   "metadata": {},
   "outputs": [],
   "source": [
    "n_trials = 30\n",
    "\n",
    "# preferred locations of readout layer neurons\n",
    "N_readout = 400\n",
    "readout_theta_0 = np.linspace(0,1,N_readout + 1)\n",
    "readout_theta_0 = readout_theta_0[0:-1] #same as for theta0\n",
    "rmse_Gaussian = np.zeros([n_trials])\n",
    "\n",
    "for k in range(0,n_trials):\n",
    "    #objects = []\n",
    "    with (open(\"./data/Gaussian_population/data_readout_layer_{}.pickle\".format(k), \"rb\")) as openfile:\n",
    "        while True:\n",
    "            try:\n",
    "                #objects.append(pickle.load(openfile))\n",
    "                monitor = pickle.load(openfile)\n",
    "            except EOFError:\n",
    "                break\n",
    "    #monitor = objects[0]\n",
    "    timing_monitor = monitor[\"t\"]\n",
    "    spikeID_monitor = monitor[\"i\"]\n",
    "    t_idx = (1/(0.0001*second))*timing_monitor[:]\n",
    "    t_idx = t_idx.astype(int)\n",
    "    errs = s[t_idx] - readout_theta_0[spikeID_monitor[:]]\n",
    "    errs2 = s[t_idx] - readout_theta_0[spikeID_monitor[:]] + 1\n",
    "    errs3 = s[t_idx] - readout_theta_0[spikeID_monitor[:]] - 1\n",
    "    sq_errs = np.minimum(errs**2, errs2**2) #adjust error for circular stimulus (errors within -0.5 - 0.5)\n",
    "    sq_errs = np.minimum(sq_errs, errs3**2) #adjust error for circular stimulus (errors within -0.5 - 0.5)\n",
    "    rmse_Gaussian[k] = np.sqrt(np.mean((sq_errs)))"
   ]
  },
  {
   "cell_type": "code",
   "execution_count": 4,
   "id": "303c9aef",
   "metadata": {},
   "outputs": [],
   "source": [
    "n_trials = 30\n",
    "\n",
    "# preferred locations of readout layer neurons\n",
    "N_readout = 400\n",
    "readout_theta_0 = np.linspace(0,1,N_readout + 1)\n",
    "readout_theta_0 = readout_theta_0[0:-1] #same as for theta0\n",
    "rmse_Periodic = np.zeros([n_trials])\n",
    "\n",
    "for k in range(0,n_trials):\n",
    "    #objects = []\n",
    "    with (open(\"./data/Periodic_population/data_readout_layer_{}.pickle\".format(k), \"rb\")) as openfile:\n",
    "        while True:\n",
    "            try:\n",
    "                #objects.append(pickle.load(openfile))\n",
    "                monitor = pickle.load(openfile)\n",
    "            except EOFError:\n",
    "                break\n",
    "    #monitor = objects[0]\n",
    "    timing_monitor = monitor[\"t\"]\n",
    "    spikeID_monitor = monitor[\"i\"]\n",
    "    t_idx = (1/(0.0001*second))*timing_monitor[:] #get timing \"index\" of each spike to find true stimulus in list\n",
    "    t_idx = t_idx.astype(int)\n",
    "    #rmse_Periodic[k] = np.sqrt(np.mean((s[t_idx] - readout_theta_0[spikeID_monitor[:]])**2))\n",
    "    errs = s[t_idx] - readout_theta_0[spikeID_monitor[:]]\n",
    "    errs2 = s[t_idx] - readout_theta_0[spikeID_monitor[:]] + 1\n",
    "    errs3 = s[t_idx] - readout_theta_0[spikeID_monitor[:]] - 1\n",
    "    sq_errs = np.minimum(errs**2, errs2**2) #adjust error for circular stimulus (errors within -0.5 - 0.5)\n",
    "    sq_errs = np.minimum(sq_errs, errs3**2) #adjust error for circular stimulus (errors within -0.5 - 0.5)\n",
    "    rmse_Periodic[k] = np.sqrt(np.mean(sq_errs))"
   ]
  },
  {
   "cell_type": "code",
   "execution_count": 5,
   "id": "179e494a",
   "metadata": {},
   "outputs": [
    {
     "data": {
      "image/png": "[encoded data removed]",
      "text/plain": [
       "<Figure size 576x432 with 1 Axes>"
      ]
     },
     "metadata": {
      "needs_background": "light"
     },
     "output_type": "display_data"
    }
   ],
   "source": [
    "plot_data = np.transpose([rmse_Gaussian, rmse_Periodic])\n",
    "df = pd.DataFrame(plot_data, columns=[\"Gaussian\", \"Periodic\"])\n",
    "# Create a barplot\n",
    "fig, ax = plt.subplots(figsize=(8,6))\n",
    "plt.rcParams['font.size'] = '26'\n",
    "#p = sns.catplot(ax = ax, kind=\"box\", data=df, estimator=np.mean)\n",
    "p = sns.boxplot(ax = ax, data=df)\n",
    "\n",
    "p.set(ylabel = \"Root mean squared error (a.u.)\")\n",
    "\n",
    "fig.savefig('./figures/RMSE_Barplot_time_varying_stim.png')\n",
    "fig.savefig('./figures/RMSE_Barplot_time_varying_stim.eps', format='eps')"
   ]
  },
  {
   "cell_type": "code",
   "execution_count": 6,
   "id": "72bd96cb",
   "metadata": {},
   "outputs": [
    {
     "data": {
      "text/plain": [
       "KstestResult(statistic=0.7, pvalue=2.5000118318420276e-07)"
      ]
     },
     "execution_count": 6,
     "metadata": {},
     "output_type": "execute_result"
    }
   ],
   "source": [
    "# preform a kolmogorov-smirnov test\n",
    "ks_2samp(rmse_Gaussian, rmse_Periodic)"
   ]
  },
  {
   "cell_type": "code",
   "execution_count": null,
   "id": "80f1cfa3",
   "metadata": {},
   "outputs": [],
   "source": []
  }
 ],
 "metadata": {
  "kernelspec": {
   "display_name": "Python 3 (ipykernel)",
   "language": "python",
   "name": "python3"
  },
  "language_info": {
   "codemirror_mode": {
    "name": "ipython",
    "version": 3
   },
   "file_extension": ".py",
   "mimetype": "text/x-python",
   "name": "python",
   "nbconvert_exporter": "python",
   "pygments_lexer": "ipython3",
   "version": "3.10.4"
  }
 },
 "nbformat": 4,
 "nbformat_minor": 5
}
