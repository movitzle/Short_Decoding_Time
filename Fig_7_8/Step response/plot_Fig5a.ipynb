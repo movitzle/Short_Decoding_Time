{
 "cells": [
  {
   "cell_type": "code",
   "execution_count": null,
   "id": "f356dbd6",
   "metadata": {},
   "outputs": [],
   "source": [
    "# Plotting data in Figure 5a. The box plots show the accumulated errors since the stimulus change"
   ]
  },
  {
   "cell_type": "code",
   "execution_count": 1,
   "id": "a09eda9c",
   "metadata": {},
   "outputs": [],
   "source": [
    "import numpy as np\n",
    "import seaborn as sns\n",
    "import pandas as pd\n",
    "from scipy.stats import ks_2samp\n",
    "import pickle\n",
    "import matplotlib.pyplot as plt\n",
    "from brian2 import *"
   ]
  },
  {
   "cell_type": "code",
   "execution_count": 2,
   "id": "0f6710a3",
   "metadata": {},
   "outputs": [],
   "source": [
    "s = [0.25, 0.75]\n",
    "#decode_time =  np.linspace(1,500,500)*ms\n",
    "decode_time = np.asarray([50,100,150,200,300, 500]) - 1 #subtract 1 to adjust for zero indexing in python\n",
    "\n",
    "n_trials = 30\n",
    "n_decoding_times = len(decode_time)\n",
    "# process data from the periodic population for trial number 0 - 29\n",
    "rmse_Periodic = np.zeros([n_trials,n_decoding_times])\n",
    "\n",
    "N_readout = 400\n",
    "objects = []\n",
    "\n",
    "for k in range(0,n_trials):\n",
    "    with (open('./data/Periodic_population/data_readout_layer_run_idx_{}.pickle'.format(k), \"rb\")) as openfile:\n",
    "        while True:\n",
    "            try:\n",
    "                objects.append(pickle.load(openfile))\n",
    "            except EOFError:\n",
    "                break\n",
    "dt = 0.0001 # dt = 0.1 ms\n",
    "offset = 500 *ms # offset is the time of the stimulus change\n",
    "\n",
    "# preferred locations of readout layer neurons\n",
    "readout_theta_0 = np.linspace(0,1,N_readout + 1)\n",
    "readout_theta_0 = readout_theta_0[:-1]\n",
    "\n",
    "for k in range(0,n_trials):\n",
    "    \n",
    "    spike_monitor = objects[k]\n",
    "    spike_monitor_i = spike_monitor[\"i\"]\n",
    "    spike_monitor_t = spike_monitor[\"t\"]\n",
    "    # Find the rmse for the different time points in \"decode time\"\n",
    "    idx_t = np.argwhere(spike_monitor_t[:]> offset) #find all spikes after stimulus step change\n",
    "    for m in range(0,n_decoding_times):\n",
    "        idx_t_upper = np.argwhere(spike_monitor_t[:]< decode_time[m] + offset)\n",
    "        idx = np.intersect1d(idx_t, idx_t_upper)\n",
    "        if len(idx)>0:\n",
    "            sq_errs = np.minimum((s[1] - readout_theta_0[spike_monitor_i[idx]])**2, (s[1] - readout_theta_0[spike_monitor_i[idx]] + 1)**2)\n",
    "            sq_errs = np.minimum((s[1] - readout_theta_0[spike_monitor_i[idx]] -1)**2, sq_errs)\n",
    "            rmse_Periodic[k,m] = np.sqrt(np.mean(sq_errs))\n",
    "        else:\n",
    "            rmse_Periodic[k,m] = np.sqrt(np.mean(0.5)**2)\n",
    "    \n",
    "rmse_Gaussian = np.zeros([n_trials, n_decoding_times])\n",
    "\n",
    "# process data from the Gaussian population for trial number 0 - 29\n",
    "objects = []\n",
    "for k in range(0,n_trials):\n",
    "    with (open('./data/Gaussian_population/data_readout_layer_run_idx_{}.pickle'.format(k), \"rb\")) as openfile:\n",
    "        while True:\n",
    "            try:\n",
    "                objects.append(pickle.load(openfile))\n",
    "            except EOFError:\n",
    "                break\n",
    "N_readout = 400\n",
    "for k in range(0,n_trials):\n",
    "    spike_monitor = objects[k]\n",
    "    spike_monitor_i = spike_monitor[\"i\"]\n",
    "    spike_monitor_t = spike_monitor[\"t\"]\n",
    "    idx_t = np.argwhere(spike_monitor_t[:]> offset) #find all spikes after stimulus step change\n",
    "    \n",
    "    # Find the rmse for the different time points in \"decode time\"\n",
    "    for m in range(0,n_decoding_times):\n",
    "        idx_t_upper = np.argwhere(spike_monitor_t[:]< decode_time[m] + offset)\n",
    "        idx = np.intersect1d(idx_t, idx_t_upper)\n",
    "        if len(idx)>0:\n",
    "            #rmse_Gaussian[k,m] = np.sqrt(np.mean((s[1] - readout_theta_0[spike_monitor_i[idx]])**2))\n",
    "            sq_errs = np.minimum((s[1] - readout_theta_0[spike_monitor_i[idx]])**2, (s[1] - readout_theta_0[spike_monitor_i[idx]] + 1)**2)\n",
    "            sq_errs = np.minimum((s[1] - readout_theta_0[spike_monitor_i[idx]] -1)**2, sq_errs)\n",
    "            rmse_Gaussian[k,m] = np.sqrt(np.mean(sq_errs))\n",
    "        else:\n",
    "            rmse_Gaussian[k,m] = np.sqrt(np.mean(0.5)**2)"
   ]
  },
  {
   "cell_type": "code",
   "execution_count": 8,
   "id": "e4ba58a2",
   "metadata": {},
   "outputs": [],
   "source": [
    "statistics = np.zeros([np.size(decode_time)])\n",
    "p_val = np.zeros([np.size(decode_time)])\n",
    "\n",
    "for count, value in enumerate(decode_time):\n",
    "    plot_data = np.transpose([rmse_Gaussian[:,value], rmse_Periodic[:,value]])\n",
    "    df = pd.DataFrame(plot_data, columns=[\"Gaussian\", \"Periodic\"])\n",
    "    plt.rcParams['font.size'] = '26'\n",
    "    # Create a barplot\n",
    "    p = sns.catplot(kind=\"box\", data=df, estimator=np.mean)\n",
    "\n",
    "    p.set(ylabel = \"Root mean squared error (a.u.)\")\n",
    "    plt.ylim(0,0.5)\n",
    "    plt.savefig('./figures/accumulated_RMSE_readout_boxplot_{}.png'.format(value+1))\n",
    "    plt.savefig('./figures/accumulated_RMSE_readout_boxplot_{}.eps'.format(value+1), format='eps')\n",
    "    plt.close()\n",
    "    statistics[count], p_val[count] = ks_2samp(rmse_Gaussian[:,value], rmse_Periodic[:,value])"
   ]
  },
  {
   "cell_type": "code",
   "execution_count": 6,
   "id": "c37df657",
   "metadata": {},
   "outputs": [
    {
     "name": "stdout",
     "output_type": "stream",
     "text": [
      "[0.23333333 0.5        0.53333333 0.6        0.56666667 0.6       ]\n",
      "[3.92945014e-01 8.99577684e-04 2.93340549e-04 2.36648847e-05\n",
      " 8.73780359e-05 2.36648847e-05]\n"
     ]
    }
   ],
   "source": [
    "\n",
    "print(statistics)\n",
    "print(p_val)"
   ]
  }
 ],
 "metadata": {
  "kernelspec": {
   "display_name": "Python 3 (ipykernel)",
   "language": "python",
   "name": "python3"
  },
  "language_info": {
   "codemirror_mode": {
    "name": "ipython",
    "version": 3
   },
   "file_extension": ".py",
   "mimetype": "text/x-python",
   "name": "python",
   "nbconvert_exporter": "python",
   "pygments_lexer": "ipython3",
   "version": "3.10.4"
  }
 },
 "nbformat": 4,
 "nbformat_minor": 5
}
