{
 "cells": [
  {
   "cell_type": "code",
   "execution_count": null,
   "id": "873484e4",
   "metadata": {},
   "outputs": [],
   "source": [
    "# This code reads the recorded data in the folder \"data\" and plots the spike rasters for the 1st and 2nd layer respectively"
   ]
  },
  {
   "cell_type": "code",
   "execution_count": 1,
   "id": "6617a498",
   "metadata": {},
   "outputs": [],
   "source": [
    "from brian2 import *\n",
    "import numpy as np\n",
    "import seaborn as sns\n",
    "import pandas as pd\n",
    "from scipy.stats import ks_2samp\n",
    "import pickle\n",
    "import matplotlib.pyplot as plt\n",
    "\n",
    "from itertools import groupby\n",
    "from operator import itemgetter"
   ]
  },
  {
   "cell_type": "code",
   "execution_count": 2,
   "id": "1ab1a560",
   "metadata": {},
   "outputs": [],
   "source": [
    "s = [0.25, 0.25 + 0.5]"
   ]
  },
  {
   "cell_type": "code",
   "execution_count": 3,
   "id": "d1b62a14",
   "metadata": {},
   "outputs": [
    {
     "name": "stderr",
     "output_type": "stream",
     "text": [
      "WARNING    C:\\Users\\movitzle\\AppData\\Local\\Temp\\ipykernel_15264\\722055226.py:15: RuntimeWarning: More than 20 figures have been opened. Figures created through the pyplot interface (`matplotlib.pyplot.figure`) are retained until explicitly closed and may consume too much memory. (To control this warning, see the rcParam `figure.max_open_warning`).\n",
      "  fig, ax = plt.subplots(figsize=(6,6*1.2))\n",
      " [py.warnings]\n",
      "WARNING    C:\\Users\\movitzle\\AppData\\Local\\Temp\\ipykernel_15264\\722055226.py:14: RuntimeWarning: More than 20 figures have been opened. Figures created through the pyplot interface (`matplotlib.pyplot.figure`) are retained until explicitly closed and may consume too much memory. (To control this warning, see the rcParam `figure.max_open_warning`).\n",
      "  plt.figure()\n",
      " [py.warnings]\n"
     ]
    },
    {
     "data": {
      "text/plain": [
       "<Figure size 432x288 with 0 Axes>"
      ]
     },
     "metadata": {},
     "output_type": "display_data"
    },
    {
     "data": {
      "text/plain": [
       "<Figure size 432x288 with 0 Axes>"
      ]
     },
     "metadata": {},
     "output_type": "display_data"
    },
    {
     "data": {
      "text/plain": [
       "<Figure size 432x288 with 0 Axes>"
      ]
     },
     "metadata": {},
     "output_type": "display_data"
    },
    {
     "data": {
      "text/plain": [
       "<Figure size 432x288 with 0 Axes>"
      ]
     },
     "metadata": {},
     "output_type": "display_data"
    },
    {
     "data": {
      "text/plain": [
       "<Figure size 432x288 with 0 Axes>"
      ]
     },
     "metadata": {},
     "output_type": "display_data"
    },
    {
     "data": {
      "text/plain": [
       "<Figure size 432x288 with 0 Axes>"
      ]
     },
     "metadata": {},
     "output_type": "display_data"
    },
    {
     "data": {
      "text/plain": [
       "<Figure size 432x288 with 0 Axes>"
      ]
     },
     "metadata": {},
     "output_type": "display_data"
    },
    {
     "data": {
      "text/plain": [
       "<Figure size 432x288 with 0 Axes>"
      ]
     },
     "metadata": {},
     "output_type": "display_data"
    },
    {
     "data": {
      "text/plain": [
       "<Figure size 432x288 with 0 Axes>"
      ]
     },
     "metadata": {},
     "output_type": "display_data"
    },
    {
     "data": {
      "text/plain": [
       "<Figure size 432x288 with 0 Axes>"
      ]
     },
     "metadata": {},
     "output_type": "display_data"
    },
    {
     "data": {
      "text/plain": [
       "<Figure size 432x288 with 0 Axes>"
      ]
     },
     "metadata": {},
     "output_type": "display_data"
    },
    {
     "data": {
      "text/plain": [
       "<Figure size 432x288 with 0 Axes>"
      ]
     },
     "metadata": {},
     "output_type": "display_data"
    },
    {
     "data": {
      "text/plain": [
       "<Figure size 432x288 with 0 Axes>"
      ]
     },
     "metadata": {},
     "output_type": "display_data"
    },
    {
     "data": {
      "text/plain": [
       "<Figure size 432x288 with 0 Axes>"
      ]
     },
     "metadata": {},
     "output_type": "display_data"
    },
    {
     "data": {
      "text/plain": [
       "<Figure size 432x288 with 0 Axes>"
      ]
     },
     "metadata": {},
     "output_type": "display_data"
    },
    {
     "data": {
      "text/plain": [
       "<Figure size 432x288 with 0 Axes>"
      ]
     },
     "metadata": {},
     "output_type": "display_data"
    },
    {
     "data": {
      "text/plain": [
       "<Figure size 432x288 with 0 Axes>"
      ]
     },
     "metadata": {},
     "output_type": "display_data"
    },
    {
     "data": {
      "text/plain": [
       "<Figure size 432x288 with 0 Axes>"
      ]
     },
     "metadata": {},
     "output_type": "display_data"
    },
    {
     "data": {
      "text/plain": [
       "<Figure size 432x288 with 0 Axes>"
      ]
     },
     "metadata": {},
     "output_type": "display_data"
    },
    {
     "data": {
      "text/plain": [
       "<Figure size 432x288 with 0 Axes>"
      ]
     },
     "metadata": {},
     "output_type": "display_data"
    },
    {
     "data": {
      "text/plain": [
       "<Figure size 432x288 with 0 Axes>"
      ]
     },
     "metadata": {},
     "output_type": "display_data"
    },
    {
     "data": {
      "text/plain": [
       "<Figure size 432x288 with 0 Axes>"
      ]
     },
     "metadata": {},
     "output_type": "display_data"
    },
    {
     "data": {
      "text/plain": [
       "<Figure size 432x288 with 0 Axes>"
      ]
     },
     "metadata": {},
     "output_type": "display_data"
    },
    {
     "data": {
      "text/plain": [
       "<Figure size 432x288 with 0 Axes>"
      ]
     },
     "metadata": {},
     "output_type": "display_data"
    },
    {
     "data": {
      "text/plain": [
       "<Figure size 432x288 with 0 Axes>"
      ]
     },
     "metadata": {},
     "output_type": "display_data"
    },
    {
     "data": {
      "text/plain": [
       "<Figure size 432x288 with 0 Axes>"
      ]
     },
     "metadata": {},
     "output_type": "display_data"
    },
    {
     "data": {
      "text/plain": [
       "<Figure size 432x288 with 0 Axes>"
      ]
     },
     "metadata": {},
     "output_type": "display_data"
    },
    {
     "data": {
      "text/plain": [
       "<Figure size 432x288 with 0 Axes>"
      ]
     },
     "metadata": {},
     "output_type": "display_data"
    },
    {
     "data": {
      "text/plain": [
       "<Figure size 432x288 with 0 Axes>"
      ]
     },
     "metadata": {},
     "output_type": "display_data"
    },
    {
     "data": {
      "text/plain": [
       "<Figure size 432x288 with 0 Axes>"
      ]
     },
     "metadata": {},
     "output_type": "display_data"
    }
   ],
   "source": [
    "# Plot trial by trial spiking rasters from the Gaussian population for trial number 0 - 29\n",
    "objects = []\n",
    "\n",
    "n_trials = 30\n",
    "\n",
    "N_readout = 400\n",
    "for k in range(0,n_trials):\n",
    "    with (open('./data/Gaussian_population/data_readout_layer_run_idx_{}.pickle'.format(k), \"rb\")) as openfile:\n",
    "        while True:\n",
    "            try:\n",
    "                objects = pickle.load(openfile)\n",
    "            except EOFError:\n",
    "                break\n",
    "    plt.figure()\n",
    "    fig, ax = plt.subplots(figsize=(6,6*1.2))\n",
    "    plt.rcParams['font.size'] = '26'\n",
    "    plot_obj = objects\n",
    "    plot_t = (plot_obj[\"t\"] -500*ms)*1000\n",
    "\n",
    "    plt.plot([-500,0] , [s[0],s[0]], color = 'b')\n",
    "    plt.plot([0, 500] , [s[1], s[1]])\n",
    "\n",
    "    plt.ylim([0, 1])\n",
    "    plt.xlim([-100, 300])\n",
    "    plt.rcParams['font.size'] = '26'\n",
    "    plt.ylabel(\"Stimulus (a.u.)\")\n",
    "    plt.xlabel(\"Time (ms)\")\n",
    "    \n",
    "    ax = plt.gca()\n",
    "    plt.rcParams['font.size'] = '26'\n",
    "    ax2 = ax.twinx()\n",
    "\n",
    "    ax2.plot(plot_t, plot_obj[\"i\"], '|', color='orange')\n",
    "    #xlim([-100,500])\n",
    "    plt.ylim([0,N_readout])\n",
    "    plt.ylabel(\"Readout neuron ID\")\n",
    "    plt.xlabel(\"Time (ms)\")\n",
    "    plt.savefig('./figures/Gaussian_population/readout/N_500_{}.png'.format(k))\n",
    "    plt.savefig('./figures/Gaussian_population/readout/N_500_{}.eps'.format(k), format='eps')\n",
    "    plt.close()\n",
    "\n",
    "objects = []\n",
    "for k in range(0,n_trials):\n",
    "    with (open('./data/Gaussian_population/data_TC_layer_run_idx_{}.pickle'.format(k), \"rb\")) as openfile:\n",
    "        while True:\n",
    "            try:\n",
    "                objects.append(pickle.load(openfile))\n",
    "            except EOFError:\n",
    "                break\n",
    "\n",
    "N_TC = 500\n",
    "for k in range(0,n_trials):\n",
    "    plt.figure()\n",
    "    plot_obj = objects[k]\n",
    "    \n",
    "    plt.plot(plot_obj[\"t\"]*1000, plot_obj[\"i\"], '|')\n",
    "    plt.xlabel(\"Time (ms)\")\n",
    "    plt.ylim([0,N_TC])\n",
    "    plt.ylabel(\"TC neuron ID\")\n",
    "    plt.savefig('./figures/Gaussian_population/TC/N_500_{}.png'.format(k))\n",
    "    plt.savefig('./figures/Gaussian_population/TC/N_500_{}.eps'.format(k), format='eps')\n",
    "    plt.close()\n",
    "\n"
   ]
  },
  {
   "cell_type": "code",
   "execution_count": 4,
   "id": "48f9d9e7",
   "metadata": {},
   "outputs": [
    {
     "name": "stderr",
     "output_type": "stream",
     "text": [
      "WARNING    C:\\Users\\movitzle\\AppData\\Local\\Temp\\ipykernel_15264\\2657990602.py:15: RuntimeWarning: More than 20 figures have been opened. Figures created through the pyplot interface (`matplotlib.pyplot.figure`) are retained until explicitly closed and may consume too much memory. (To control this warning, see the rcParam `figure.max_open_warning`).\n",
      "  fig, ax = plt.subplots(figsize=(6,6*1.2))\n",
      " [py.warnings]\n",
      "WARNING    C:\\Users\\movitzle\\AppData\\Local\\Temp\\ipykernel_15264\\2657990602.py:14: RuntimeWarning: More than 20 figures have been opened. Figures created through the pyplot interface (`matplotlib.pyplot.figure`) are retained until explicitly closed and may consume too much memory. (To control this warning, see the rcParam `figure.max_open_warning`).\n",
      "  plt.figure()\n",
      " [py.warnings]\n"
     ]
    },
    {
     "name": "stdout",
     "output_type": "stream",
     "text": [
      "{'t': array([2.000e-01, 2.000e-01, 5.000e-01, 6.000e-01, 1.100e+00, 1.700e+00,\n",
      "       3.710e+01, 5.270e+01, 6.750e+01, 8.710e+01, 1.046e+02, 1.060e+02,\n",
      "       1.210e+02, 1.241e+02, 1.271e+02, 1.507e+02, 1.513e+02, 1.516e+02,\n",
      "       1.663e+02, 1.710e+02, 1.866e+02, 1.911e+02, 2.035e+02, 2.053e+02,\n",
      "       2.398e+02, 2.528e+02, 2.602e+02, 2.867e+02, 2.899e+02, 3.036e+02,\n",
      "       3.150e+02, 3.230e+02, 3.237e+02, 3.239e+02, 3.378e+02, 3.568e+02,\n",
      "       3.714e+02, 3.716e+02, 3.989e+02, 3.994e+02, 4.195e+02, 4.207e+02,\n",
      "       4.283e+02, 4.353e+02, 4.405e+02, 4.475e+02, 4.475e+02, 4.626e+02,\n",
      "       4.668e+02, 4.951e+02, 4.956e+02, 4.994e+02, 5.148e+02, 5.175e+02,\n",
      "       5.348e+02, 5.520e+02, 5.611e+02, 5.642e+02, 5.819e+02, 6.051e+02,\n",
      "       6.378e+02, 6.413e+02, 6.575e+02, 6.580e+02, 6.596e+02, 6.734e+02,\n",
      "       6.900e+02, 6.961e+02, 7.126e+02, 7.130e+02, 7.298e+02, 7.299e+02,\n",
      "       7.301e+02, 7.313e+02, 7.635e+02, 7.684e+02, 7.990e+02, 8.000e+02,\n",
      "       8.217e+02, 8.225e+02, 8.473e+02, 8.772e+02, 8.781e+02, 8.878e+02,\n",
      "       9.094e+02, 9.174e+02, 9.261e+02, 9.289e+02, 9.337e+02, 9.349e+02,\n",
      "       9.604e+02, 9.708e+02, 9.833e+02, 9.914e+02]) * msecond, 'i': array([  1, 344, 100, 139, 378, 188, 109,  80,  96, 109,  99, 138, 112,\n",
      "       104,  80, 102, 131,  96, 120, 100,  96, 103,  98,  93,  99, 112,\n",
      "        92,  91,  79,  96, 112, 104,  83,  80,  96,  92,  72,  96, 112,\n",
      "        80,  93, 106,  99,  88,  80,  96, 104, 109,  95,  96, 112, 100,\n",
      "       109, 107,  28, 113, 114, 104,  96, 288, 285, 304, 288, 291, 300,\n",
      "       296, 310, 304, 312, 298, 301, 308, 285, 300, 288, 296, 280,  88,\n",
      "       180, 320, 212, 167, 310, 336, 304, 296, 303, 313, 304, 301, 304,\n",
      "       192, 301, 296]), 'count': array([0, 1, 0, 0, 0, 0, 0, 0, 0, 0, 0, 0, 0, 0, 0, 0, 0, 0, 0, 0, 0, 0,\n",
      "       0, 0, 0, 0, 0, 0, 1, 0, 0, 0, 0, 0, 0, 0, 0, 0, 0, 0, 0, 0, 0, 0,\n",
      "       0, 0, 0, 0, 0, 0, 0, 0, 0, 0, 0, 0, 0, 0, 0, 0, 0, 0, 0, 0, 0, 0,\n",
      "       0, 0, 0, 0, 0, 0, 1, 0, 0, 0, 0, 0, 0, 1, 5, 0, 0, 1, 0, 0, 0, 0,\n",
      "       2, 0, 0, 1, 2, 2, 0, 1, 9, 0, 1, 3, 3, 0, 1, 1, 4, 0, 1, 1, 0, 4,\n",
      "       0, 0, 5, 1, 1, 0, 0, 0, 0, 0, 1, 0, 0, 0, 0, 0, 0, 0, 0, 0, 0, 1,\n",
      "       0, 0, 0, 0, 0, 0, 1, 1, 0, 0, 0, 0, 0, 0, 0, 0, 0, 0, 0, 0, 0, 0,\n",
      "       0, 0, 0, 0, 0, 0, 0, 0, 0, 0, 0, 0, 0, 1, 0, 0, 0, 0, 0, 0, 0, 0,\n",
      "       0, 0, 0, 0, 1, 0, 0, 0, 0, 0, 0, 0, 1, 0, 0, 0, 1, 0, 0, 0, 0, 0,\n",
      "       0, 0, 0, 0, 0, 0, 0, 0, 0, 0, 0, 0, 0, 0, 1, 0, 0, 0, 0, 0, 0, 0,\n",
      "       0, 0, 0, 0, 0, 0, 0, 0, 0, 0, 0, 0, 0, 0, 0, 0, 0, 0, 0, 0, 0, 0,\n",
      "       0, 0, 0, 0, 0, 0, 0, 0, 0, 0, 0, 0, 0, 0, 0, 0, 0, 0, 0, 0, 0, 0,\n",
      "       0, 0, 0, 0, 0, 0, 0, 0, 0, 0, 0, 0, 0, 0, 0, 0, 1, 0, 0, 0, 0, 2,\n",
      "       0, 0, 3, 0, 0, 1, 0, 0, 0, 0, 4, 0, 1, 0, 2, 3, 0, 1, 5, 0, 0, 0,\n",
      "       1, 0, 2, 0, 1, 1, 0, 0, 0, 0, 0, 0, 1, 0, 0, 0, 0, 0, 0, 0, 0, 0,\n",
      "       0, 0, 0, 0, 0, 0, 1, 0, 0, 0, 0, 0, 0, 0, 1, 0, 0, 0, 0, 0, 0, 0,\n",
      "       0, 0, 0, 0, 0, 0, 0, 0, 0, 0, 0, 0, 0, 0, 0, 0, 0, 0, 0, 0, 0, 0,\n",
      "       0, 0, 0, 0, 1, 0, 0, 0, 0, 0, 0, 0, 0, 0, 0, 0, 0, 0, 0, 0, 0, 0,\n",
      "       0, 0, 0, 0])}\n"
     ]
    },
    {
     "data": {
      "text/plain": [
       "<Figure size 432x288 with 0 Axes>"
      ]
     },
     "metadata": {},
     "output_type": "display_data"
    },
    {
     "data": {
      "text/plain": [
       "<Figure size 432x288 with 0 Axes>"
      ]
     },
     "metadata": {},
     "output_type": "display_data"
    },
    {
     "data": {
      "text/plain": [
       "<Figure size 432x288 with 0 Axes>"
      ]
     },
     "metadata": {},
     "output_type": "display_data"
    },
    {
     "data": {
      "text/plain": [
       "<Figure size 432x288 with 0 Axes>"
      ]
     },
     "metadata": {},
     "output_type": "display_data"
    },
    {
     "data": {
      "text/plain": [
       "<Figure size 432x288 with 0 Axes>"
      ]
     },
     "metadata": {},
     "output_type": "display_data"
    },
    {
     "data": {
      "text/plain": [
       "<Figure size 432x288 with 0 Axes>"
      ]
     },
     "metadata": {},
     "output_type": "display_data"
    },
    {
     "data": {
      "text/plain": [
       "<Figure size 432x288 with 0 Axes>"
      ]
     },
     "metadata": {},
     "output_type": "display_data"
    },
    {
     "data": {
      "text/plain": [
       "<Figure size 432x288 with 0 Axes>"
      ]
     },
     "metadata": {},
     "output_type": "display_data"
    },
    {
     "data": {
      "text/plain": [
       "<Figure size 432x288 with 0 Axes>"
      ]
     },
     "metadata": {},
     "output_type": "display_data"
    },
    {
     "data": {
      "text/plain": [
       "<Figure size 432x288 with 0 Axes>"
      ]
     },
     "metadata": {},
     "output_type": "display_data"
    },
    {
     "data": {
      "text/plain": [
       "<Figure size 432x288 with 0 Axes>"
      ]
     },
     "metadata": {},
     "output_type": "display_data"
    },
    {
     "data": {
      "text/plain": [
       "<Figure size 432x288 with 0 Axes>"
      ]
     },
     "metadata": {},
     "output_type": "display_data"
    },
    {
     "data": {
      "text/plain": [
       "<Figure size 432x288 with 0 Axes>"
      ]
     },
     "metadata": {},
     "output_type": "display_data"
    },
    {
     "data": {
      "text/plain": [
       "<Figure size 432x288 with 0 Axes>"
      ]
     },
     "metadata": {},
     "output_type": "display_data"
    },
    {
     "data": {
      "text/plain": [
       "<Figure size 432x288 with 0 Axes>"
      ]
     },
     "metadata": {},
     "output_type": "display_data"
    },
    {
     "data": {
      "text/plain": [
       "<Figure size 432x288 with 0 Axes>"
      ]
     },
     "metadata": {},
     "output_type": "display_data"
    },
    {
     "data": {
      "text/plain": [
       "<Figure size 432x288 with 0 Axes>"
      ]
     },
     "metadata": {},
     "output_type": "display_data"
    },
    {
     "data": {
      "text/plain": [
       "<Figure size 432x288 with 0 Axes>"
      ]
     },
     "metadata": {},
     "output_type": "display_data"
    },
    {
     "data": {
      "text/plain": [
       "<Figure size 432x288 with 0 Axes>"
      ]
     },
     "metadata": {},
     "output_type": "display_data"
    },
    {
     "data": {
      "text/plain": [
       "<Figure size 432x288 with 0 Axes>"
      ]
     },
     "metadata": {},
     "output_type": "display_data"
    },
    {
     "data": {
      "text/plain": [
       "<Figure size 432x288 with 0 Axes>"
      ]
     },
     "metadata": {},
     "output_type": "display_data"
    },
    {
     "data": {
      "text/plain": [
       "<Figure size 432x288 with 0 Axes>"
      ]
     },
     "metadata": {},
     "output_type": "display_data"
    },
    {
     "data": {
      "text/plain": [
       "<Figure size 432x288 with 0 Axes>"
      ]
     },
     "metadata": {},
     "output_type": "display_data"
    },
    {
     "data": {
      "text/plain": [
       "<Figure size 432x288 with 0 Axes>"
      ]
     },
     "metadata": {},
     "output_type": "display_data"
    },
    {
     "data": {
      "text/plain": [
       "<Figure size 432x288 with 0 Axes>"
      ]
     },
     "metadata": {},
     "output_type": "display_data"
    },
    {
     "data": {
      "text/plain": [
       "<Figure size 432x288 with 0 Axes>"
      ]
     },
     "metadata": {},
     "output_type": "display_data"
    },
    {
     "data": {
      "text/plain": [
       "<Figure size 432x288 with 0 Axes>"
      ]
     },
     "metadata": {},
     "output_type": "display_data"
    },
    {
     "data": {
      "text/plain": [
       "<Figure size 432x288 with 0 Axes>"
      ]
     },
     "metadata": {},
     "output_type": "display_data"
    },
    {
     "data": {
      "text/plain": [
       "<Figure size 432x288 with 0 Axes>"
      ]
     },
     "metadata": {},
     "output_type": "display_data"
    },
    {
     "data": {
      "text/plain": [
       "<Figure size 432x288 with 0 Axes>"
      ]
     },
     "metadata": {},
     "output_type": "display_data"
    }
   ],
   "source": [
    "# Plot trial by trial spiking rasters from the Periodic population for trial number 0 - 29\n",
    "objects = []\n",
    "\n",
    "for k in range(0,n_trials):\n",
    "    with (open('./data/Periodic_population/data_readout_layer_run_idx_{}.pickle'.format(k), \"rb\")) as openfile:\n",
    "        while True:\n",
    "            try:\n",
    "                objects.append(pickle.load(openfile))\n",
    "            except EOFError:\n",
    "                break\n",
    "\n",
    "N_readout = 400\n",
    "for k in range(0,n_trials):\n",
    "    plt.figure()\n",
    "    fig, ax = plt.subplots(figsize=(6,6*1.2))\n",
    "    \n",
    "    \n",
    "    plot_obj = objects[k]\n",
    "    plot_t = (plot_obj[\"t\"] -500*ms)*1000 # set a -500 ms offset (such that step change occurs at t=0 s, and then convert to ms)\n",
    "\n",
    "    plt.plot([-500,0] , [s[0],s[0]], color = 'b')\n",
    "    plt.plot([0, 500] , [s[1], s[1]])\n",
    "\n",
    "    plt.ylim([0, 1])\n",
    "    plt.xlim([-100, 300])\n",
    "    plt.rcParams['font.size'] = '26'\n",
    "    plt.ylabel(\"Stimulus (a.u.)\")\n",
    "    plt.xlabel(\"Time (ms)\")\n",
    "    \n",
    "    ax = plt.gca()\n",
    "    ax2 = ax.twinx()\n",
    "    \n",
    "    ax2.plot(plot_t, plot_obj[\"i\"], '|', color='orange')\n",
    "    #xlim([-100,500])\n",
    "    plt.ylim([0,N_readout])\n",
    "    plt.ylabel(\"Readout neuron ID\")\n",
    "    plt.xlabel(\"Time (ms)\")\n",
    "    plt.savefig('./figures/Periodic_population/readout/N_500_{}.png'.format(k))\n",
    "    plt.savefig('./figures/Periodic_population/readout/N_500_{}.eps'.format(k), format='eps')\n",
    "    plt.close()\n",
    "\n",
    "print(objects[0])\n",
    "\n",
    "N_TC = 500\n",
    "for k in range(0,n_trials):\n",
    "    objects = []\n",
    "    with (open('./data/Periodic_population/data_TC_layer_run_idx_{}.pickle'.format(k), \"rb\")) as openfile:\n",
    "        while True:\n",
    "            try:\n",
    "                objects.append(pickle.load(openfile))\n",
    "            except EOFError:\n",
    "                break\n",
    "    plt.figure()\n",
    "    for m in range(0,4):\n",
    "        plot_obj = objects[m]\n",
    "\n",
    "        plt.plot(plot_obj[\"t\"]*1000, plot_obj[\"i\"] + m*125, '|')\n",
    "    plt.ylim([0, N_TC])\n",
    "    \n",
    "    plt.xlabel(\"Time (ms)\")\n",
    "    plt.ylim([0,N_TC])\n",
    "    plt.ylabel(\"TC neuron ID\")\n",
    "    plt.savefig('./figures/Periodic_population/TC/N_500_{}.png'.format(k))\n",
    "    plt.savefig('./figures/Periodic_population/TC/N_500_{}.eps'.format(k), format='eps')\n",
    "    plt.close()"
   ]
  }
 ],
 "metadata": {
  "kernelspec": {
   "display_name": "Python 3 (ipykernel)",
   "language": "python",
   "name": "python3"
  },
  "language_info": {
   "codemirror_mode": {
    "name": "ipython",
    "version": 3
   },
   "file_extension": ".py",
   "mimetype": "text/x-python",
   "name": "python",
   "nbconvert_exporter": "python",
   "pygments_lexer": "ipython3",
   "version": "3.10.4"
  }
 },
 "nbformat": 4,
 "nbformat_minor": 5
}
